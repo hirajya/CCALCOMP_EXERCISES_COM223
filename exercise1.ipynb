{
  "cells": [
    {
      "cell_type": "markdown",
      "metadata": {
        "id": "3-prKGbfwFRd"
      },
      "source": [
        "# Exercise 1"
      ]
    },
    {
      "cell_type": "markdown",
      "metadata": {
        "id": "kBW-_z9HwFRf"
      },
      "source": [
        "Please follow the instructions in each number. Do not remove or modify the pre-defined code!"
      ]
    },
    {
      "cell_type": "code",
      "execution_count": null,
      "metadata": {
        "id": "ABAdD_ngwFRg"
      },
      "outputs": [],
      "source": [
        "# Add a vertex to the set of vertices and the graph\n",
        "def add_vertex(v):\n",
        "  global graph\n",
        "  global vertices_no\n",
        "  global vertices\n",
        "  if v in vertices:\n",
        "    print(\"Vertex \", v, \" already exists\")\n",
        "  else:\n",
        "    vertices_no = vertices_no + 1\n",
        "    vertices.append(v)\n",
        "    if vertices_no > 1:\n",
        "        for vertex in graph:\n",
        "            vertex.append(0)\n",
        "    temp = []\n",
        "    for i in range(vertices_no):\n",
        "        temp.append(0)\n",
        "    graph.append(temp)\n",
        "\n",
        "# Add an edge between vertex v1 and v2 with edge weight e\n",
        "def add_edge(v1, v2, e):\n",
        "    global graph\n",
        "    global vertices_no\n",
        "    global vertices\n",
        "    # Check if vertex v1 is a valid vertex\n",
        "    if v1 not in vertices:\n",
        "        print(\"Vertex \", v1, \" does not exist.\")\n",
        "    # Check if vertex v1 is a valid vertex\n",
        "    elif v2 not in vertices:\n",
        "        print(\"Vertex \", v2, \" does not exist.\")\n",
        "    # Since this code is not restricted to a directed or\n",
        "    # an undirected graph, an edge between v1 v2 does not\n",
        "    # imply that an edge exists between v2 and v1\n",
        "    else:\n",
        "        index1 = vertices.index(v1)\n",
        "        index2 = vertices.index(v2)\n",
        "        graph[index1][index2] = e\n",
        "\n",
        "# Print the graph\n",
        "def print_graph():\n",
        "  global graph\n",
        "  global vertices_no\n",
        "  for i in range(vertices_no):\n",
        "    for j in range(vertices_no):\n",
        "      if graph[i][j] != 0:\n",
        "        print(vertices[i], \" -> \", vertices[j],\n",
        "              \" edge weight: \", graph[i][j])"
      ]
    },
    {
      "cell_type": "code",
      "execution_count": null,
      "metadata": {
        "id": "912w9tR0wFRh"
      },
      "outputs": [],
      "source": [
        "# stores the vertices in the graph\n",
        "vertices = []\n",
        "# stores the number of vertices in the graph\n",
        "vertices_no = 0\n",
        "graph = []"
      ]
    },
    {
      "cell_type": "markdown",
      "metadata": {
        "id": "lzkib3wYwFRh"
      },
      "source": [
        "<img src=\"https://github.com/robitussin/CCALCOMP_EXERCISES/blob/main/images/directed%20graph2.png?raw=true\"/>"
      ]
    },
    {
      "cell_type": "markdown",
      "metadata": {
        "id": "Qfh-2gbPwFRi"
      },
      "source": [
        "1. Print the edges and vertices of the graph in set representation. (`25 points`)"
      ]
    },
    {
      "cell_type": "code",
      "execution_count": null,
      "metadata": {
        "id": "FSymqoxmwFRi",
        "outputId": "c4a7d12c-6897-4e30-cbaf-9bdc9fac897b"
      },
      "outputs": [
        {
          "name": "stdout",
          "output_type": "stream",
          "text": [
            "G(5, 6)\n",
            "V = {'B', 'E', 'A', 'C', 'D'}\n",
            "E = {('A', 'C'), ('C', 'B'), ('C', 'D'), ('E', 'A'), ('A', 'D'), ('B', 'A')}\n"
          ]
        }
      ],
      "source": [
        "vertices_arr = {'A', 'B', 'C', 'D', 'E'}\n",
        "edges = {('A', 'C'), ('A','D'), ('B','A'),('C','D'),('C','B'),('E','A')}\n",
        "\n",
        "print(f\"G({len(vertices_arr)}, {len(edges)})\")\n",
        "print(f\"V = {vertices_arr}\")\n",
        "print(f\"E = {edges}\")"
      ]
    },
    {
      "cell_type": "markdown",
      "metadata": {
        "id": "NHt6QEFzwFRi"
      },
      "source": [
        "2. Implement the weighted graph in python code. Use the print_graph() function. (`25 points`)"
      ]
    },
    {
      "cell_type": "code",
      "execution_count": null,
      "metadata": {
        "id": "fcYP9VF9wFRj",
        "outputId": "b744908a-7463-4385-b8c0-a04022f94ee9"
      },
      "outputs": [
        {
          "name": "stdout",
          "output_type": "stream",
          "text": [
            "A  ->  C  edge weight:  12\n",
            "A  ->  D  edge weight:  60\n",
            "B  ->  A  edge weight:  10\n",
            "C  ->  B  edge weight:  20\n",
            "C  ->  D  edge weight:  32\n",
            "E  ->  A  edge weight:  7\n"
          ]
        }
      ],
      "source": [
        "add_vertex('A')\n",
        "add_vertex('B')\n",
        "add_vertex('C')\n",
        "add_vertex('D')\n",
        "add_vertex('E')\n",
        "\n",
        "add_edge('A', 'C', 12)\n",
        "add_edge('A', 'D', 60)\n",
        "add_edge('B', 'A', 10)\n",
        "add_edge('C', 'D', 32)\n",
        "add_edge('C', 'B', 20)\n",
        "add_edge('E', 'A', 7)\n",
        "\n",
        "print_graph()\n"
      ]
    },
    {
      "cell_type": "markdown",
      "metadata": {
        "id": "kD-6afNTwFRj"
      },
      "source": [
        "3. You decided to go on a trip around the philippines. Being a computer scientist, you wanted to find the optimal route that would cost the least amount of money to travel all four cities. Find the route and print the total cost of the most optimal route. (`50 points`)"
      ]
    },
    {
      "cell_type": "markdown",
      "metadata": {
        "id": "cBHIHSIewFRj"
      },
      "source": [
        "<img src=\"https://github.com/robitussin/CCALCOMP_EXERCISES/blob/main/images/trip.png?raw=true\" width=\"500\" height=\"600\"/>"
      ]
    },
    {
      "cell_type": "code",
      "execution_count": null,
      "metadata": {
        "id": "yNwmvIXnwFRj",
        "outputId": "6c1fb47e-0087-422b-9d96-83cb639a256f"
      },
      "outputs": [
        {
          "name": "stdout",
          "output_type": "stream",
          "text": [
            "Total Cost of optimal route: Php 11500\n"
          ]
        }
      ],
      "source": [
        "#Available Paths\n",
        "\n",
        "# Manila -> Tacloban -> Davao -> Puerto Princesa -> Manila\n",
        "# 1000 + 2000 + 4000 + 8000 = 15000\n",
        "\n",
        "# Manila -> Puerto Princesa -> Tacloban -> Davao -> Manila\n",
        "# 8000 + 1500 + 2000 + 5000 = 16500\n",
        "\n",
        "# Manila -> Tacloban -> Puerto Princesa -> Davao -> Manila\n",
        "# 1000 + 1500 + 4000 + 5000 = 11500 (Optimal Route)\n",
        "\n",
        "total_cost = 1000 + 1500 + 4000 + 5000\n",
        "\n",
        "print(f\"Total Cost of optimal route: Php {total_cost}\")\n",
        "\n",
        "\n"
      ]
    }
  ],
  "metadata": {
    "colab": {
      "provenance": []
    },
    "kernelspec": {
      "display_name": "base",
      "language": "python",
      "name": "python3"
    },
    "language_info": {
      "codemirror_mode": {
        "name": "ipython",
        "version": 3
      },
      "file_extension": ".py",
      "mimetype": "text/x-python",
      "name": "python",
      "nbconvert_exporter": "python",
      "pygments_lexer": "ipython3",
      "version": "3.10.6"
    }
  },
  "nbformat": 4,
  "nbformat_minor": 0
}
