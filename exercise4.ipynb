{
  "cells": [
    {
      "cell_type": "markdown",
      "metadata": {
        "id": "view-in-github",
        "colab_type": "text"
      },
      "source": [
        "<a href=\"https://colab.research.google.com/github/hirajya/CCALCOMP_EXERCISES_COM223/blob/main/exercise4.ipynb\" target=\"_parent\"><img src=\"https://colab.research.google.com/assets/colab-badge.svg\" alt=\"Open In Colab\"/></a>"
      ]
    },
    {
      "cell_type": "markdown",
      "metadata": {
        "id": "cPRRjBOhHHMh"
      },
      "source": [
        "# Exercise 4\n",
        "\n",
        "Please follow the instructions in each number."
      ]
    },
    {
      "cell_type": "markdown",
      "metadata": {
        "id": "zvDTNWRFHHMk"
      },
      "source": [
        "### Activity Selection Problem\n",
        "\n",
        "Given a set of activities, along with the starting and finishing time of each activity, find the maximum number of activities performed by a single person assuming that a person can only work on a single activity at a time.\n",
        "\n",
        "For example,\n",
        "\n",
        "Input: Following set of activities (1, 4), (3, 5), (0, 6), (5, 7), (3, 8), (5, 9), (6, 10), (8, 11), (8, 12), (2, 13), (12, 14)  \n",
        "\n",
        "Output: (1, 4), (5, 7), (8, 11), (12, 14)"
      ]
    },
    {
      "cell_type": "markdown",
      "metadata": {
        "id": "ff7w7YLGHHMl"
      },
      "source": [
        "## Tasks"
      ]
    },
    {
      "cell_type": "markdown",
      "metadata": {
        "id": "0QLHdoNSHHMl"
      },
      "source": [
        "1. Write a program using a recursive greedy approach to get the maximum number of activities (`50 points`)"
      ]
    },
    {
      "cell_type": "code",
      "execution_count": 4,
      "metadata": {
        "vscode": {
          "languageId": "plaintext"
        },
        "id": "Xe02cHvAHHMl",
        "colab": {
          "base_uri": "https://localhost:8080/"
        },
        "outputId": "db902025-c4fa-4dde-d9d3-eff675d66ce9"
      },
      "outputs": [
        {
          "output_type": "stream",
          "name": "stdout",
          "text": [
            "Selected activities (Recursive): [(1, 4), (5, 7), (8, 11), (12, 14)]\n"
          ]
        }
      ],
      "source": [
        "def select_activities_recursive(activities):\n",
        "    activities.sort(key=lambda x: x[1])\n",
        "    selected = [activities[0]]\n",
        "    return recursive_selector(activities, selected, 0, len(activities))\n",
        "\n",
        "def recursive_selector(activities, selected, current_index, total_activities):\n",
        "    next_index = current_index + 1\n",
        "    while next_index < total_activities and activities[next_index][0] < activities[current_index][1]:\n",
        "        next_index += 1\n",
        "    if next_index < total_activities:\n",
        "        selected.append(activities[next_index])\n",
        "        return recursive_selector(activities, selected, next_index, total_activities)\n",
        "    else:\n",
        "        return selected\n",
        "\n",
        "activity_list = [(1, 4), (3, 5), (0, 6), (5, 7), (3, 8), (5, 9), (6, 10), (8, 11), (8, 12), (2, 13), (12, 14)]\n",
        "selected_activities_recursive = select_activities_recursive(activity_list)\n",
        "print(\"Selected activities (Recursive):\", selected_activities_recursive)\n"
      ]
    },
    {
      "cell_type": "markdown",
      "metadata": {
        "id": "eZe27u4LHHMn"
      },
      "source": [
        "2. Write a program using a iterative greedy approach to get the maximun number of activities (`50 points`)"
      ]
    },
    {
      "cell_type": "code",
      "execution_count": 5,
      "metadata": {
        "vscode": {
          "languageId": "plaintext"
        },
        "id": "UrSZyQwEHHMn",
        "colab": {
          "base_uri": "https://localhost:8080/"
        },
        "outputId": "c657a4ce-36de-4a2c-c889-087eff0d196c"
      },
      "outputs": [
        {
          "output_type": "stream",
          "name": "stdout",
          "text": [
            "Selected activities (Iterative): [(1, 4), (5, 7), (8, 11), (12, 14)]\n"
          ]
        }
      ],
      "source": [
        "def select_activities_iterative(activities):\n",
        "    activities.sort(key=lambda x: x[1])\n",
        "    total_activities = len(activities)\n",
        "    selected = [activities[0]]\n",
        "\n",
        "    last_activity_index = 0\n",
        "    for i in range(1, total_activities):\n",
        "        if activities[i][0] >= activities[last_activity_index][1]:\n",
        "            selected.append(activities[i])\n",
        "            last_activity_index = i\n",
        "\n",
        "    return selected\n",
        "\n",
        "activity_list = [(1, 4), (3, 5), (0, 6), (5, 7), (3, 8), (5, 9), (6, 10), (8, 11), (8, 12), (2, 13), (12, 14)]\n",
        "selected_activities_iterative = select_activities_iterative(activity_list)\n",
        "print(\"Selected activities (Iterative):\", selected_activities_iterative)\n"
      ]
    }
  ],
  "metadata": {
    "colab": {
      "provenance": [],
      "include_colab_link": true
    },
    "kernelspec": {
      "display_name": "base",
      "language": "python",
      "name": "python3"
    },
    "language_info": {
      "codemirror_mode": {
        "name": "ipython",
        "version": 3
      },
      "file_extension": ".py",
      "mimetype": "text/x-python",
      "name": "python",
      "nbconvert_exporter": "python",
      "pygments_lexer": "ipython3",
      "version": "3.9.6"
    }
  },
  "nbformat": 4,
  "nbformat_minor": 0
}